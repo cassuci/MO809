{
 "cells": [
  {
   "cell_type": "markdown",
   "metadata": {},
   "source": [
    "# MO809 - Lab 02 - Guia para a aula experimental\n",
    "\n",
    "Agora que você já sabe adquirir dados com um dispositivo e enviar para a nuvem (utilizando a plataforma Konker), vamos implementar o método de aprendizado não supervisionado kmeans no dispositivo, um ESP8266.\n",
    "Para seguir esse roteiro, você precisará de uma conta na Konker, que pode ser criada em https://demo.konkerlabs.net/ e, caso deseje trabalhar com o kit disponibilizado para vocês, será necessário baixar a Arduino IDE e adicionar o suporte a placa de desenvolvimento **NodeMCU**, além de instalar as bibliotecas **PubSubClient** e **ArduinoJSON**. Um guia de instalação da placa pode ser visto na referência https://www.filipeflop.com/blog/programar-nodemcu-com-ide-arduino/ enquanto a instalação das bibliotecas pode ser feita sem dificuldades buscando pelo nome das mesmas na caixa aberta ao selecionar o menu **Sketch** -> **Incluir Biblioteca** -> **Gerenciar Bibliotecas**."
   ]
  },
  {
   "cell_type": "markdown",
   "metadata": {},
   "source": [
    "Vamos iniciar nosso notebook chamando todas as bibliotecas que usaremos. Nessa etapa, nada precisa ser modificado."
   ]
  },
  {
   "cell_type": "code",
   "execution_count": null,
   "metadata": {},
   "outputs": [],
   "source": [
    "!pip install arrow bokeh paho.mqtt\n",
    "from oauthlib.oauth2 import BackendApplicationClient\n",
    "from requests_oauthlib import OAuth2Session\n",
    "import pprint\n",
    "import numpy as np\n",
    "import arrow\n",
    "import requests                                                                                                                                                                                 \n",
    "import json                                                                                                                                                                                     \n",
    "from threading import Timer\n",
    "import matplotlib.pyplot as plt\n",
    "%matplotlib inline"
   ]
  },
  {
   "cell_type": "markdown",
   "metadata": {},
   "source": [
    "O próximo passo é definir os endereços que serão usados para consultar e enviar os dados. Nessa etapa ainda não é necessário fazer modificações."
   ]
  },
  {
   "cell_type": "code",
   "execution_count": null,
   "metadata": {},
   "outputs": [],
   "source": [
    "#Url de publicacao dos dados\n",
    "pub_url = 'https://data.demo.konkerlabs.net/pub/'\n",
    "#Url da API\n",
    "base_api = 'https://api.demo.konkerlabs.net'\n",
    "#Application padrão\n",
    "application = 'default'"
   ]
  },
  {
   "cell_type": "markdown",
   "metadata": {},
   "source": [
    "Agora vamos colocar em duas variáveis o seu usuário e senha da plataforma:"
   ]
  },
  {
   "cell_type": "code",
   "execution_count": null,
   "metadata": {},
   "outputs": [],
   "source": [
    "username = ''\n",
    "password = ''"
   ]
  },
  {
   "cell_type": "markdown",
   "metadata": {},
   "source": [
    "O próximo passo é criar o dispositivo dentro de sua conta na Konker. Você pode criar o dispositivo com o nome de sua preferência, lembre-se apenas de modificar nas função abaixo para o nome adequado. Caso queira usar o nome *termometro*, não é necessário alterar nada na próxima célula."
   ]
  },
  {
   "cell_type": "code",
   "execution_count": null,
   "metadata": {},
   "outputs": [],
   "source": [
    "termometro_name = \"termometro\""
   ]
  },
  {
   "cell_type": "markdown",
   "metadata": {},
   "source": [
    "## Usando o Kit de Hardware \n",
    "Esse é o momento de você baixar o código dos dispositivos disponível no GitHub: https://github.com/lfgomez/MO809/lab02/ Você deve baixar o código **kmeans-termistor**. Depois de baixar o código, abra o código do Termometro na Arduino IDE e mude os parâmetros de rede Wifi, canal de publicação (minha sugestão é usar *temperatura*) credenciais do dispositivo.\n",
    "\n",
    "![term](https://raw.githubusercontent.com/KonkerLabs/arduino_examples/master/Termometro_MQTT/term.jpg \"Termômetro\")\n",
    "\n",
    "Com o dispositivo montado, o próximo passo é compilar e gravar o Firmware. Lembre-se de mudar a board na Arduino IDE para **NodeMCU v1.0**."
   ]
  },
  {
   "cell_type": "markdown",
   "metadata": {},
   "source": [
    "**Ao iniciar o treinamento, o LED da placa começará a piscar. Após isso, aguarde 10 segundos registrando a temperatura ambiente. Após isso, segure o termistor com seus dedos fazendo a temperatura subir. Mantenha o termômetro aquecido com seus dedos por ao menos 10 segundos. Por último, deixe o dispositivo capturando novamente dados de temperatura ambiente até que o LED da placa pare de piscar.**"
   ]
  },
  {
   "cell_type": "markdown",
   "metadata": {},
   "source": [
    "**Quando o LED se apagar ou acender continuamente, o treinamento está terminado. A placa então começará a enviar dados para a plataforma, em dois canais: \"temperatura\" e \"cluster\". O LED também está configurado para mudar de estado conforme o cluster do dado adquirido: apagado para cluster 0 e aceso para cluster 1.**"
   ]
  },
  {
   "cell_type": "markdown",
   "metadata": {},
   "source": [
    "## Vamos baixar os dados e ver como eles se comportam\n",
    "Para iniciar esse trabalho, vamos primeiro conectar na API da Konker. A API usa OAuth2, então primeiro vamos obter as credenciais."
   ]
  },
  {
   "cell_type": "code",
   "execution_count": null,
   "metadata": {},
   "outputs": [],
   "source": [
    "client = BackendApplicationClient(client_id=username)\n",
    "oauth = OAuth2Session(client=client)\n",
    "token = oauth.fetch_token(token_url='{}/v1/oauth/token'.format(base_api),\n",
    "                                       client_id=username,\n",
    "                                       client_secret=password)"
   ]
  },
  {
   "cell_type": "markdown",
   "metadata": {},
   "source": [
    "Ótimo! Agora nos podemos começar a usar a API. Caso você queira mais detalhes de sua utilização, pode encontrar documentação em: https://api.demo.konkerlabs.net .\n",
    "\n",
    "Vamos começar listando os dispositivos registrados no seu usuário."
   ]
  },
  {
   "cell_type": "code",
   "execution_count": null,
   "metadata": {},
   "outputs": [],
   "source": [
    "devices = oauth.get(\"https://api.demo.konkerlabs.net/v1/{}/devices/\".format(application)).json()['result']\n",
    "for dev in devices:\n",
    "    print(dev)"
   ]
  },
  {
   "cell_type": "markdown",
   "metadata": {},
   "source": [
    "Vamos procurar pelo dispositivo Termometro na sua lista de dispositivos:"
   ]
  },
  {
   "cell_type": "code",
   "execution_count": null,
   "metadata": {},
   "outputs": [],
   "source": [
    "guid_term=\"\"\n",
    "for dev in devices:\n",
    "    if dev['name'] == termometro_name:\n",
    "        guid_term = dev['guid']\n",
    "\n",
    "print(\"O GUID do dispositivo Termômetro é: \"+ guid_term)"
   ]
  },
  {
   "cell_type": "markdown",
   "metadata": {},
   "source": [
    "Caso você consiga ver o GUID do dispositivo, significa que está tudo funcionando bem. Caso o GUID não apareça, revise o nome do dispositivo no Notebook e o nome escolhido na plataforma para garantir que eles possuem a mesma grafia."
   ]
  },
  {
   "cell_type": "markdown",
   "metadata": {},
   "source": [
    "Agora vamos usar a API para pegar os dados enviados pelo dispositivo termômetro hoje. Vamos baixar dados de todos os canais: \"temperatura\" e \"cluster\"."
   ]
  },
  {
   "cell_type": "code",
   "execution_count": null,
   "metadata": {},
   "outputs": [],
   "source": [
    "dt_start = arrow.utcnow().to('America/Sao_Paulo').floor('day')\n",
    "dt_start = dt_start.shift(days=-1)\n",
    "stats = oauth.get(\"https://api.demo.konkerlabs.net/v1/{}/incomingEvents?q=device:{} timestamp:>{}&sort=oldest&limit=10000\".format(application,guid_term,dt_start.isoformat())).json()['result']\n",
    "print(stats)"
   ]
  },
  {
   "cell_type": "markdown",
   "metadata": {},
   "source": [
    "Caso tudo tenha funcionado como esperado, você deve estar vendo seus dados logo acima. Para facilitar a visualização e análise dos dados, podemos transformar em um formato tabular com o Pandas."
   ]
  },
  {
   "cell_type": "code",
   "execution_count": null,
   "metadata": {},
   "outputs": [],
   "source": [
    "from pandas import json_normalize\n",
    "stats_df = json_normalize(stats).set_index('timestamp')\n",
    "stats_df = stats_df[3:]\n",
    "stats_df"
   ]
  },
  {
   "cell_type": "markdown",
   "metadata": {},
   "source": [
    "Ótimo! Agora os dados estão em um formato mais fácil de ler. Vamos agora ver os clusters."
   ]
  },
  {
   "cell_type": "code",
   "execution_count": null,
   "metadata": {},
   "outputs": [],
   "source": [
    "plt.figure(figsize=(15,4))\n",
    "stats_df[stats_df['incoming.channel']=='clusters']['payload.value'].plot()\n",
    "plt.xticks(rotation=45);"
   ]
  },
  {
   "cell_type": "markdown",
   "metadata": {},
   "source": [
    "Vamos agora plotar os clusters juntamente com a temperatura"
   ]
  },
  {
   "cell_type": "code",
   "execution_count": null,
   "metadata": {},
   "outputs": [],
   "source": [
    "fig, ax1 = plt.subplots(figsize=(15,4))\n",
    "ax1.set_xlabel('timestamp')\n",
    "ax1 = stats_df[stats_df['incoming.channel']=='temperatura']['payload.value'].plot()\n",
    "ax2 = ax1.twinx()\n",
    "ax2.fill_between(stats_df[stats_df['incoming.channel']=='clusters'].index,stats_df[stats_df['incoming.channel']=='clusters']['payload.value'], 0,color = 'red', alpha=0.3)\n",
    "ax1.tick_params(labelrotation=45);"
   ]
  },
  {
   "cell_type": "markdown",
   "metadata": {},
   "source": [
    "## Feito isso, você deve escrever um relatório que contenha: Resumo, metodologia usada e conclusões, respondendo ao longo do texto as perguntas abaixo. \n",
    "### Obs.: Essa primeira parte você pode realizar quantas vezes achar necessário para responder as próximas questões."
   ]
  },
  {
   "cell_type": "markdown",
   "metadata": {},
   "source": [
    "### Perguntas com relação ao kmeans\n",
    "#### 1) Como funciona o método de kmeans? Quais os parâmetros do método?\n",
    "#### 2) Ele é um método supervisionado ou não-supervisionado? O que isso significa?\n",
    "#### 3) O que você espera como resultado dele de uma forma geral? Ele funciona em dimensões superiores a 3?\n"
   ]
  },
  {
   "cell_type": "markdown",
   "metadata": {},
   "source": [
    "### Perguntas com relação ao experimento\n",
    "#### 1) O que ocorre se você tiver um vetor com todas as temperaturas idênticas?\n",
    "#### 2) Como você inicializaria os centroids? Consegue apontar como foi feito no código? O que ocorre se forem usadas as duas primeiras entradas do vetor como centroids?\n",
    "#### 3) O que ocorre se você reduzir o máximo de interações para 2? E para 100000?"
   ]
  },
  {
   "cell_type": "markdown",
   "metadata": {},
   "source": [
    "### Perguntas com relação a aprendizado no dispositivo\n",
    "#### 1) Quais as vantagens do aprendizado no dispositivo? (Latência, disponibilidade, privacidade...)\n",
    "#### 2) Quais são as maiores desvantagens ou dificuldades no aprendizado de máquina em dispositivos?"
   ]
  },
  {
   "cell_type": "code",
   "execution_count": null,
   "metadata": {},
   "outputs": [],
   "source": []
  }
 ],
 "metadata": {
  "kernelspec": {
   "display_name": "Python 3 (ipykernel)",
   "language": "python",
   "name": "python3"
  },
  "language_info": {
   "codemirror_mode": {
    "name": "ipython",
    "version": 3
   },
   "file_extension": ".py",
   "mimetype": "text/x-python",
   "name": "python",
   "nbconvert_exporter": "python",
   "pygments_lexer": "ipython3",
   "version": "3.11.2"
  }
 },
 "nbformat": 4,
 "nbformat_minor": 4
}
